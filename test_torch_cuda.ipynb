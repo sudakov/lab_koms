{
 "cells": [
  {
   "cell_type": "code",
   "execution_count": 7,
   "id": "a6cd7166",
   "metadata": {},
   "outputs": [],
   "source": [
    "import torch\n",
    "import timeit"
   ]
  },
  {
   "cell_type": "code",
   "execution_count": 8,
   "id": "be4bf2ba",
   "metadata": {},
   "outputs": [],
   "source": [
    "tensor1 = torch.rand(10000, 10000, dtype=torch.float32)#.cuda(0)\n",
    "tensor2 = torch.rand(10000, 10000, dtype=torch.float32)#.cuda(0)"
   ]
  },
  {
   "cell_type": "code",
   "execution_count": 9,
   "id": "d4bd753d",
   "metadata": {},
   "outputs": [
    {
     "data": {
      "text/plain": [
       "17.373708668979816"
      ]
     },
     "execution_count": 9,
     "metadata": {},
     "output_type": "execute_result"
    }
   ],
   "source": [
    "timeit.timeit(\"\"\"\n",
    "for i in range(10):\n",
    "  torch.mm(tensor2, tensor1, out=tensor2)\n",
    "\"\"\", globals=globals(), number=1)"
   ]
  },
  {
   "cell_type": "code",
   "execution_count": null,
   "id": "409c97ad",
   "metadata": {},
   "outputs": [],
   "source": []
  }
 ],
 "metadata": {
  "kernelspec": {
   "display_name": "Python 3",
   "language": "python",
   "name": "python3"
  },
  "language_info": {
   "codemirror_mode": {
    "name": "ipython",
    "version": 3
   },
   "file_extension": ".py",
   "mimetype": "text/x-python",
   "name": "python",
   "nbconvert_exporter": "python",
   "pygments_lexer": "ipython3",
   "version": "3.9.6"
  }
 },
 "nbformat": 4,
 "nbformat_minor": 5
}

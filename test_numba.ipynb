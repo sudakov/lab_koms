{
 "cells": [
  {
   "cell_type": "code",
   "execution_count": 43,
   "id": "fb456d01",
   "metadata": {},
   "outputs": [],
   "source": [
    "from numba import njit \n",
    "import random\n",
    "import timeit"
   ]
  },
  {
   "cell_type": "code",
   "execution_count": 48,
   "id": "cf8b02f8",
   "metadata": {},
   "outputs": [],
   "source": [
    "@njit\n",
    "def monte_carlo_pi(nsamples):\n",
    "    acc = 0\n",
    "    for i in range(nsamples):\n",
    "        x = random.random()\n",
    "        y = random.random()\n",
    "        if (x ** 2 + y ** 2) < 1.0:\n",
    "            acc += 1\n",
    "    return 4.0 * acc / nsamples"
   ]
  },
  {
   "cell_type": "code",
   "execution_count": 49,
   "id": "3d5b0be8",
   "metadata": {},
   "outputs": [],
   "source": [
    "# monte_carlo_pi(10)"
   ]
  },
  {
   "cell_type": "code",
   "execution_count": 50,
   "id": "5fcd44ef",
   "metadata": {},
   "outputs": [
    {
     "data": {
      "text/plain": [
       "0.12966354901436716"
      ]
     },
     "execution_count": 50,
     "metadata": {},
     "output_type": "execute_result"
    }
   ],
   "source": [
    "timeit.timeit('monte_carlo_pi(1000)', globals=globals(), number=10000)"
   ]
  },
  {
   "cell_type": "code",
   "execution_count": null,
   "id": "9522f686",
   "metadata": {},
   "outputs": [],
   "source": []
  }
 ],
 "metadata": {
  "kernelspec": {
   "display_name": "Python 3",
   "language": "python",
   "name": "python3"
  },
  "language_info": {
   "codemirror_mode": {
    "name": "ipython",
    "version": 3
   },
   "file_extension": ".py",
   "mimetype": "text/x-python",
   "name": "python",
   "nbconvert_exporter": "python",
   "pygments_lexer": "ipython3",
   "version": "3.9.6"
  }
 },
 "nbformat": 4,
 "nbformat_minor": 5
}
